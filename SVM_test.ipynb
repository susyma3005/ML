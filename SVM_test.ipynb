{
 "cells": [
  {
   "cell_type": "markdown",
   "id": "2888a712",
   "metadata": {},
   "source": [
    "# Small Support Vector Machine tutorial: \n",
    "Needed packages sklearn   \n",
    "                           SMA May 2023  \n",
    "                           More info (and it has really detailed material): https://scikit-learn.org/stable/modules/svm.html     \n",
    "                           https://scikit-learn.org/stable/modules/svm.html  \n",
    "                           (The first part of the tutorial is a reproduction from a tutorial in XX website)"
   ]
  },
  {
   "cell_type": "code",
   "execution_count": 1,
   "id": "alpine-modification",
   "metadata": {},
   "outputs": [],
   "source": [
    "import pandas as pd\n",
    "import numpy as np\n",
    "import matplotlib.pyplot as plt\n",
    "%matplotlib inline\n",
    "#This tutorial is done first with pandas for handling the CSV but the same thing can be done with numpu"
   ]
  },
  {
   "cell_type": "code",
   "execution_count": 2,
   "id": "emotional-natural",
   "metadata": {},
   "outputs": [],
   "source": [
    "bankdata = pd.read_csv(\"bill_authentication.csv\")"
   ]
  },
  {
   "cell_type": "code",
   "execution_count": 3,
   "id": "familiar-conservation",
   "metadata": {},
   "outputs": [
    {
     "data": {
      "text/plain": [
       "(1372, 5)"
      ]
     },
     "execution_count": 3,
     "metadata": {},
     "output_type": "execute_result"
    }
   ],
   "source": [
    "bankdata.shape\n"
   ]
  },
  {
   "cell_type": "code",
   "execution_count": 4,
   "id": "wired-assurance",
   "metadata": {},
   "outputs": [
    {
     "data": {
      "text/html": [
       "<div>\n",
       "<style scoped>\n",
       "    .dataframe tbody tr th:only-of-type {\n",
       "        vertical-align: middle;\n",
       "    }\n",
       "\n",
       "    .dataframe tbody tr th {\n",
       "        vertical-align: top;\n",
       "    }\n",
       "\n",
       "    .dataframe thead th {\n",
       "        text-align: right;\n",
       "    }\n",
       "</style>\n",
       "<table border=\"1\" class=\"dataframe\">\n",
       "  <thead>\n",
       "    <tr style=\"text-align: right;\">\n",
       "      <th></th>\n",
       "      <th>Variance</th>\n",
       "      <th>Skewness</th>\n",
       "      <th>Curtosis</th>\n",
       "      <th>Entropy</th>\n",
       "      <th>Class</th>\n",
       "    </tr>\n",
       "  </thead>\n",
       "  <tbody>\n",
       "    <tr>\n",
       "      <th>0</th>\n",
       "      <td>3.62160</td>\n",
       "      <td>8.6661</td>\n",
       "      <td>-2.8073</td>\n",
       "      <td>-0.44699</td>\n",
       "      <td>0</td>\n",
       "    </tr>\n",
       "    <tr>\n",
       "      <th>1</th>\n",
       "      <td>4.54590</td>\n",
       "      <td>8.1674</td>\n",
       "      <td>-2.4586</td>\n",
       "      <td>-1.46210</td>\n",
       "      <td>0</td>\n",
       "    </tr>\n",
       "    <tr>\n",
       "      <th>2</th>\n",
       "      <td>3.86600</td>\n",
       "      <td>-2.6383</td>\n",
       "      <td>1.9242</td>\n",
       "      <td>0.10645</td>\n",
       "      <td>0</td>\n",
       "    </tr>\n",
       "    <tr>\n",
       "      <th>3</th>\n",
       "      <td>3.45660</td>\n",
       "      <td>9.5228</td>\n",
       "      <td>-4.0112</td>\n",
       "      <td>-3.59440</td>\n",
       "      <td>0</td>\n",
       "    </tr>\n",
       "    <tr>\n",
       "      <th>4</th>\n",
       "      <td>0.32924</td>\n",
       "      <td>-4.4552</td>\n",
       "      <td>4.5718</td>\n",
       "      <td>-0.98880</td>\n",
       "      <td>0</td>\n",
       "    </tr>\n",
       "  </tbody>\n",
       "</table>\n",
       "</div>"
      ],
      "text/plain": [
       "   Variance  Skewness  Curtosis  Entropy  Class\n",
       "0   3.62160    8.6661   -2.8073 -0.44699      0\n",
       "1   4.54590    8.1674   -2.4586 -1.46210      0\n",
       "2   3.86600   -2.6383    1.9242  0.10645      0\n",
       "3   3.45660    9.5228   -4.0112 -3.59440      0\n",
       "4   0.32924   -4.4552    4.5718 -0.98880      0"
      ]
     },
     "execution_count": 4,
     "metadata": {},
     "output_type": "execute_result"
    }
   ],
   "source": [
    "bankdata.head()"
   ]
  },
  {
   "cell_type": "code",
   "execution_count": 5,
   "id": "e0bee021",
   "metadata": {},
   "outputs": [
    {
     "name": "stdout",
     "output_type": "stream",
     "text": [
      "      Variance  Skewness  Curtosis  Entropy  Class\n",
      "0      3.62160   8.66610   -2.8073 -0.44699      0\n",
      "1      4.54590   8.16740   -2.4586 -1.46210      0\n",
      "2      3.86600  -2.63830    1.9242  0.10645      0\n",
      "3      3.45660   9.52280   -4.0112 -3.59440      0\n",
      "4      0.32924  -4.45520    4.5718 -0.98880      0\n",
      "...        ...       ...       ...      ...    ...\n",
      "1367   0.40614   1.34920   -1.4501 -0.55949      1\n",
      "1368  -1.38870  -4.87730    6.4774  0.34179      1\n",
      "1369  -3.75030 -13.45860   17.5932 -2.77710      1\n",
      "1370  -3.56370  -8.38270   12.3930 -1.28230      1\n",
      "1371  -2.54190  -0.65804    2.6842  1.19520      1\n",
      "\n",
      "[1372 rows x 5 columns]\n"
     ]
    }
   ],
   "source": [
    "print(bankdata)"
   ]
  },
  {
   "cell_type": "markdown",
   "id": "3d621df8",
   "metadata": {},
   "source": [
    "SVM needs an array where the **X** is the samples and **Y** the features"
   ]
  },
  {
   "cell_type": "code",
   "execution_count": 6,
   "id": "alpha-compatibility",
   "metadata": {},
   "outputs": [],
   "source": [
    "X = bankdata.drop('Class', axis=1)\n",
    "y = bankdata['Class'] #Saves in the y the type \"the label\"\n",
    "#X = bankdata['Variance'] #Here it will use the variance to build the model"
   ]
  },
  {
   "cell_type": "markdown",
   "id": "39c5b531",
   "metadata": {},
   "source": [
    "The following is a feature from sklearn that randomly can select a subset from the arrays for doing the training and the test "
   ]
  },
  {
   "cell_type": "code",
   "execution_count": 7,
   "id": "mathematical-completion",
   "metadata": {},
   "outputs": [],
   "source": [
    "from sklearn.model_selection import train_test_split\n",
    "X_train, X_test, y_train, y_test = train_test_split(X, y, test_size = 0.20, shuffle=True, random_state=1)\n"
   ]
  },
  {
   "cell_type": "markdown",
   "id": "8dfcb614",
   "metadata": {},
   "source": [
    "Now we need to import the SVM package from sklearn"
   ]
  },
  {
   "cell_type": "code",
   "execution_count": 8,
   "id": "a240225f",
   "metadata": {},
   "outputs": [
    {
     "data": {
      "text/plain": [
       "((1097, 4), (1097,), (275, 4), (275,))"
      ]
     },
     "execution_count": 8,
     "metadata": {},
     "output_type": "execute_result"
    }
   ],
   "source": [
    "X_train.shape, y_train.shape, X_test.shape, y_test.shape"
   ]
  },
  {
   "cell_type": "code",
   "execution_count": 9,
   "id": "confirmed-blackjack",
   "metadata": {},
   "outputs": [],
   "source": [
    "#from sklearn.svm import SVC\n",
    "#svclassifier = SVC(kernel='linear') #There are types of kernels:polynomial, \"RBF\"\n",
    "#svclassifier.fit(x_train.reshape(-1,1),y_train)#Here we directly fit"
   ]
  },
  {
   "cell_type": "code",
   "execution_count": 27,
   "id": "a19bc54b",
   "metadata": {},
   "outputs": [
    {
     "ename": "NameError",
     "evalue": "name 'LinearSVC' is not defined",
     "output_type": "error",
     "traceback": [
      "\u001b[0;31m---------------------------------------------------------------------------\u001b[0m",
      "\u001b[0;31mNameError\u001b[0m                                 Traceback (most recent call last)",
      "Input \u001b[0;32mIn [27]\u001b[0m, in \u001b[0;36m<cell line: 2>\u001b[0;34m()\u001b[0m\n\u001b[1;32m      1\u001b[0m \u001b[38;5;28;01mfrom\u001b[39;00m \u001b[38;5;21;01msklearn\u001b[39;00m\u001b[38;5;21;01m.\u001b[39;00m\u001b[38;5;21;01msvm\u001b[39;00m \u001b[38;5;28;01mimport\u001b[39;00m SVC\n\u001b[0;32m----> 2\u001b[0m svclassifier \u001b[38;5;241m=\u001b[39m \u001b[43mLinearSVC\u001b[49m() \u001b[38;5;66;03m#There are types of kernels:polynomial, \"RBF\"\u001b[39;00m\n\u001b[1;32m      3\u001b[0m svclassifier\u001b[38;5;241m.\u001b[39mfit(X_train,y_train)\n",
      "\u001b[0;31mNameError\u001b[0m: name 'LinearSVC' is not defined"
     ]
    }
   ],
   "source": [
    "from sklearn.svm import SVC\n",
    "svclassifier = SVC(kernel='linear') #There are types of kernels:polynomial, \"RBF\"\n",
    "svclassifier.fit(X_train,y_train)#Here we directly fit"
   ]
  },
  {
   "cell_type": "code",
   "execution_count": 11,
   "id": "decimal-entrance",
   "metadata": {},
   "outputs": [],
   "source": [
    "y_pred = svclassifier.predict(X_test) #Here we predict new values that are outside the trainign data"
   ]
  },
  {
   "cell_type": "markdown",
   "id": "0fc8d2ce",
   "metadata": {},
   "source": [
    "We need a way to quantify how it perfomed and this is done already with sklearn"
   ]
  },
  {
   "cell_type": "code",
   "execution_count": 12,
   "id": "cff4dfa3",
   "metadata": {},
   "outputs": [
    {
     "name": "stdout",
     "output_type": "stream",
     "text": [
      "1.0\n"
     ]
    }
   ],
   "source": [
    "#print(svclassifier.score(x_test.reshape(-1,1),y_pred))\n",
    "print(svclassifier.score(X_test,y_pred))"
   ]
  },
  {
   "cell_type": "code",
   "execution_count": 13,
   "id": "black-deficit",
   "metadata": {},
   "outputs": [
    {
     "name": "stdout",
     "output_type": "stream",
     "text": [
      "[[156   1]\n",
      " [  1 117]]\n",
      "              precision    recall  f1-score   support\n",
      "\n",
      "           0       0.99      0.99      0.99       157\n",
      "           1       0.99      0.99      0.99       118\n",
      "\n",
      "    accuracy                           0.99       275\n",
      "   macro avg       0.99      0.99      0.99       275\n",
      "weighted avg       0.99      0.99      0.99       275\n",
      "\n"
     ]
    }
   ],
   "source": [
    "from sklearn.metrics import classification_report, confusion_matrix\n",
    "print(confusion_matrix(y_test,y_pred))\n",
    "print(classification_report(y_test,y_pred))"
   ]
  },
  {
   "cell_type": "markdown",
   "id": "7ee29857",
   "metadata": {},
   "source": [
    "# Feature Selection and SVM-ANOVA (Step 2 variation)"
   ]
  },
  {
   "cell_type": "markdown",
   "id": "b0496b02",
   "metadata": {},
   "source": [
    "(This is the first time I'm using it, so I need to understand first what does this thing do) https://scikit-learn.org/stable/auto_examples/svm/plot_svm_anova.html#sphx-glr-auto-examples-svm-plot-svm-anova-py"
   ]
  },
  {
   "cell_type": "markdown",
   "id": "496c43cb",
   "metadata": {},
   "source": [
    "For more about feature selection: https://amueller.github.io/aml/05-advanced-topics/12-feature-selection.html"
   ]
  },
  {
   "cell_type": "code",
   "execution_count": 54,
   "id": "189e0687",
   "metadata": {},
   "outputs": [],
   "source": [
    "import numpy as np\n",
    "from sklearn.datasets import load_iris #This is a standard database in ML for testing\n",
    "\n",
    "X, y = load_iris(return_X_y=True)\n",
    "#print(X) It has 4 entries that are relevant for the classification\n",
    "# Add non-informative features\n",
    "rng = np.random.RandomState(0)\n",
    "X = np.hstack((X, 2 * rng.random((X.shape[0], 36)))) #Add 36 more which are only random"
   ]
  },
  {
   "cell_type": "code",
   "execution_count": 55,
   "id": "98269690",
   "metadata": {},
   "outputs": [
    {
     "name": "stdout",
     "output_type": "stream",
     "text": [
      "[[5.1        3.5        1.4        ... 1.1368679  0.0375796  1.23527099]\n",
      " [4.9        3.         1.4        ... 0.19219682 1.95291893 0.9373024 ]\n",
      " [4.7        3.2        1.3        ... 1.15231467 1.18408386 1.14450381]\n",
      " ...\n",
      " [6.5        3.         5.2        ... 0.8168546  1.4421851  1.87060082]\n",
      " [6.2        3.4        5.4        ... 0.20947559 0.22710621 0.83360661]\n",
      " [5.9        3.         5.1        ... 0.25893904 0.03081289 0.77348467]]\n"
     ]
    }
   ],
   "source": [
    "print(X)"
   ]
  },
  {
   "cell_type": "markdown",
   "id": "40dee88d",
   "metadata": {},
   "source": [
    "In sklearn you can creat pipelines where you are going to join different models. This can be also used for the NN"
   ]
  },
  {
   "cell_type": "code",
   "execution_count": 56,
   "id": "a9a0119d",
   "metadata": {},
   "outputs": [],
   "source": [
    "from sklearn.pipeline import Pipeline\n",
    "from sklearn.feature_selection import SelectPercentile, f_classif\n",
    "from sklearn.preprocessing import StandardScaler\n",
    "from sklearn.svm import SVC\n",
    "from sklearn.svm import LinearSVC"
   ]
  },
  {
   "cell_type": "code",
   "execution_count": 57,
   "id": "4d92da06",
   "metadata": {},
   "outputs": [],
   "source": [
    "# Create a feature-selection transform, a scaler and an instance of SVM that we\n",
    "# combine together to have a full-blown estimator\n",
    "\n",
    "clf = Pipeline(\n",
    "    [\n",
    "        (\"anova\", SelectPercentile(f_classif)), #This makes a feature selection\n",
    "        (\"scaler\", StandardScaler()), #Normalizes the data, this is important\n",
    "        #(\"svc\", SVC(gamma=\"auto\")),\n",
    "        #(\"svc\", SVC(kernel='linear')),\n",
    "        (\"svc\", LinearSVC(max_iter=100000,tol=1e-5)),\n",
    "    ]\n",
    ")"
   ]
  },
  {
   "cell_type": "code",
   "execution_count": 58,
   "id": "17893f3c",
   "metadata": {},
   "outputs": [
    {
     "data": {
      "image/png": "[encoded data removed]",
      "text/plain": [
       "<Figure size 432x288 with 1 Axes>"
      ]
     },
     "metadata": {
      "needs_background": "light"
     },
     "output_type": "display_data"
    }
   ],
   "source": [
    "import matplotlib.pyplot as plt\n",
    "from sklearn.model_selection import cross_val_score\n",
    "\n",
    "score_means = list()\n",
    "score_stds = list()\n",
    "percentiles = (1, 3, 6, 10, 15, 20, 30, 40, 60, 80, 100)\n",
    "\n",
    "for percentile in percentiles:\n",
    "    clf.set_params(anova__percentile=percentile)\n",
    "    this_scores = cross_val_score(clf, X, y)  #This performs training in subsets of our original data then we can see if it's overfitting\n",
    "    score_means.append(this_scores.mean())\n",
    "    score_stds.append(this_scores.std())\n",
    "\n",
    "plt.errorbar(percentiles, score_means, np.array(score_stds))\n",
    "plt.title(\"Performance of the SVM-Anova varying the percentile of features selected\")\n",
    "plt.xticks(np.linspace(0, 100, 11, endpoint=True))\n",
    "plt.xlabel(\"Percentile\")\n",
    "plt.ylabel(\"Accuracy Score\")\n",
    "plt.axis(\"tight\")\n",
    "plt.show()"
   ]
  },
  {
   "cell_type": "code",
   "execution_count": 59,
   "id": "d90e556e",
   "metadata": {},
   "outputs": [
    {
     "data": {
      "text/plain": [
       "0.02666666666666666"
      ]
     },
     "execution_count": 59,
     "metadata": {},
     "output_type": "execute_result"
    }
   ],
   "source": [
    "clf.set_params(anova__percentile=20)\n",
    "this_scores = cross_val_score(clf, X, y)  #This performs training in subsets of our original data then we can see if it's overfitting\n",
    "this_scores.mean()\n",
    "this_scores.std()"
   ]
  },
  {
   "cell_type": "markdown",
   "id": "a47fd5c7",
   "metadata": {},
   "source": [
    "### Softness $S=wF_n+b$"
   ]
  },
  {
   "cell_type": "code",
   "execution_count": 60,
   "id": "8a1ce2e0",
   "metadata": {},
   "outputs": [
    {
     "data": {
      "text/plain": [
       "Pipeline(steps=[('anova', SelectPercentile(percentile=20)),\n",
       "                ('scaler', StandardScaler()),\n",
       "                ('svc', LinearSVC(max_iter=100000, tol=1e-05))])"
      ]
     },
     "execution_count": 60,
     "metadata": {},
     "output_type": "execute_result"
    }
   ],
   "source": [
    "clf.fit(X,y)"
   ]
  },
  {
   "cell_type": "code",
   "execution_count": 61,
   "id": "3e8aa2eb",
   "metadata": {},
   "outputs": [
    {
     "name": "stdout",
     "output_type": "stream",
     "text": [
      "LinearSVC(max_iter=100000, tol=1e-05)\n"
     ]
    }
   ],
   "source": [
    "print(clf[2])"
   ]
  },
  {
   "cell_type": "code",
   "execution_count": 66,
   "id": "3a456a50",
   "metadata": {},
   "outputs": [],
   "source": [
    "w=clf[2].coef_"
   ]
  },
  {
   "cell_type": "code",
   "execution_count": 65,
   "id": "a1d69e03",
   "metadata": {},
   "outputs": [],
   "source": [
    "b=clf[2].intercept_"
   ]
  },
  {
   "cell_type": "code",
   "execution_count": 74,
   "id": "480031f6",
   "metadata": {},
   "outputs": [],
   "source": [
    "s=clf.decision_function(X)"
   ]
  },
  {
   "cell_type": "code",
   "execution_count": 53,
   "id": "f801960e",
   "metadata": {},
   "outputs": [],
   "source": [
    "#print(s)"
   ]
  },
  {
   "cell_type": "code",
   "execution_count": null,
   "id": "67322686",
   "metadata": {},
   "outputs": [],
   "source": []
  }
 ],
 "metadata": {
  "kernelspec": {
   "display_name": "Python 3 (ipykernel)",
   "language": "python",
   "name": "python3"
  },
  "language_info": {
   "codemirror_mode": {
    "name": "ipython",
    "version": 3
   },
   "file_extension": ".py",
   "mimetype": "text/x-python",
   "name": "python",
   "nbconvert_exporter": "python",
   "pygments_lexer": "ipython3",
   "version": "3.8.9"
  }
 },
 "nbformat": 4,
 "nbformat_minor": 5
}
